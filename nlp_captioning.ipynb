{
 "cells": [
  {
   "cell_type": "code",
   "execution_count": 7,
   "metadata": {},
   "outputs": [],
   "source": [
    "from sentence_transformers import SentenceTransformer, util\n",
    "model = SentenceTransformer('paraphrase-distilroberta-base-v1')"
   ]
  },
  {
   "cell_type": "code",
   "execution_count": 2,
   "metadata": {},
   "outputs": [],
   "source": [
    "f = open(\"captions.txt\", \"r\")"
   ]
  },
  {
   "cell_type": "code",
   "execution_count": 3,
   "metadata": {},
   "outputs": [],
   "source": [
    "k=f.readlines()"
   ]
  },
  {
   "cell_type": "code",
   "execution_count": 4,
   "metadata": {},
   "outputs": [],
   "source": [
    "lines=[]\n",
    "for line in k:\n",
    "    #print (line.strip())\n",
    "    lines.append(line.strip())"
   ]
  },
  {
   "cell_type": "code",
   "execution_count": 5,
   "metadata": {},
   "outputs": [
    {
     "data": {
      "text/plain": [
       "['a person walking down a street with a horse',\n",
       " 'a man walking down a street with a horse',\n",
       " 'a woman walking down a street with a red umbrella',\n",
       " 'a man walking down a street next to a store',\n",
       " 'a man walking down a street with a red stop sign',\n",
       " 'a man walking down a street next to a red stop light',\n",
       " 'a man walking down a street with a stop sign on it',\n",
       " 'a person walking down a street with a suitcase',\n",
       " 'a woman walking down a street with a red umbrella']"
      ]
     },
     "execution_count": 5,
     "metadata": {},
     "output_type": "execute_result"
    }
   ],
   "source": [
    "lines"
   ]
  },
  {
   "cell_type": "code",
   "execution_count": 5,
   "metadata": {},
   "outputs": [
    {
     "data": {
      "text/plain": [
       "7"
      ]
     },
     "execution_count": 5,
     "metadata": {},
     "output_type": "execute_result"
    }
   ],
   "source": [
    "len(lines)"
   ]
  },
  {
   "cell_type": "code",
   "execution_count": 8,
   "metadata": {},
   "outputs": [
    {
     "name": "stdout",
     "output_type": "stream",
     "text": [
      "a person walking down a street with a horse \t a man walking down a street with a horse   tensor(0.8776)\n",
      "a person walking down a street with a horse \t a woman walking down a street with a red umbrella   tensor(0.5541)\n",
      "a person walking down a street with a horse \t a man walking down a street next to a store   tensor(0.5683)\n",
      "a person walking down a street with a horse \t a man walking down a street with a red stop sign   tensor(0.5236)\n",
      "a person walking down a street with a horse \t a man walking down a street next to a red stop light   tensor(0.5263)\n",
      "a person walking down a street with a horse \t a man walking down a street with a stop sign on it   tensor(0.5607)\n",
      "a person walking down a street with a horse \t a person walking down a street with a suitcase   tensor(0.6254)\n",
      "a person walking down a street with a horse \t a woman walking down a street with a red umbrella   tensor(0.5541)\n",
      "a woman walking down a street with a red umbrella \t a man walking down a street next to a store   tensor(0.5111)\n",
      "a woman walking down a street with a red umbrella \t a man walking down a street with a red stop sign   tensor(0.5328)\n",
      "a woman walking down a street with a red umbrella \t a man walking down a street next to a red stop light   tensor(0.5387)\n",
      "a woman walking down a street with a red umbrella \t a man walking down a street with a stop sign on it   tensor(0.5188)\n",
      "a woman walking down a street with a red umbrella \t a person walking down a street with a suitcase   tensor(0.5873)\n",
      "a woman walking down a street with a red umbrella \t a woman walking down a street with a red umbrella   tensor(1.0000)\n",
      "a man walking down a street with a red stop sign \t a man walking down a street next to a red stop light   tensor(0.8929)\n",
      "a man walking down a street with a red stop sign \t a man walking down a street with a stop sign on it   tensor(0.9555)\n",
      "a man walking down a street with a red stop sign \t a person walking down a street with a suitcase   tensor(0.5442)\n",
      "a man walking down a street with a red stop sign \t a woman walking down a street with a red umbrella   tensor(0.5328)\n",
      "a person walking down a street with a suitcase \t a woman walking down a street with a red umbrella   tensor(0.5873)\n"
     ]
    },
    {
     "data": {
      "text/plain": [
       "['a person walking down a street with a horse',\n",
       " 'a man walking down a street next to a store',\n",
       " 'a man walking down a street with a red stop sign',\n",
       " 'a person walking down a street with a suitcase',\n",
       " 'a woman walking down a street with a red umbrella']"
      ]
     },
     "execution_count": 8,
     "metadata": {},
     "output_type": "execute_result"
    }
   ],
   "source": [
    "#Compute embedding for both lists\n",
    "lines1=lines\n",
    "j=0\n",
    "i=0\n",
    "n=len(lines1)\n",
    "while(j<n-1):\n",
    "    i=j+1\n",
    "    while(i<n):\n",
    "        sentence1=lines1[j]\n",
    "        sentence2=lines1[i]\n",
    "        embeddings1 = model.encode(sentence1, convert_to_tensor=True)\n",
    "        embeddings2 = model.encode(sentence2, convert_to_tensor=True)\n",
    "        cosine_scores = util.pytorch_cos_sim(embeddings1, embeddings2)\n",
    "        print(sentence1,\"\\t\",sentence2,\" \",cosine_scores[0][0])\n",
    "        #print(cosine_scores[0][0])\n",
    "        if(cosine_scores[0][0]>0.7):\n",
    "            lines1.remove(lines1[i])\n",
    "            i-=1\n",
    "        n=len(lines1)\n",
    "        i+=1\n",
    "    j+=1\n",
    "lines1"
   ]
  },
  {
   "cell_type": "code",
   "execution_count": null,
   "metadata": {},
   "outputs": [],
   "source": []
  }
 ],
 "metadata": {
  "kernelspec": {
   "display_name": "Python 3",
   "language": "python",
   "name": "python3"
  },
  "language_info": {
   "codemirror_mode": {
    "name": "ipython",
    "version": 3
   },
   "file_extension": ".py",
   "mimetype": "text/x-python",
   "name": "python",
   "nbconvert_exporter": "python",
   "pygments_lexer": "ipython3",
   "version": "3.8.3"
  }
 },
 "nbformat": 4,
 "nbformat_minor": 4
}
